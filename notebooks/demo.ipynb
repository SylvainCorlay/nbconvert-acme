{
 "cells": [
  {
   "cell_type": "markdown",
   "metadata": {
    "tags": []
   },
   "source": [
    "## Contents<a class=\"anchor\" id=\"contents\"></a>:\n",
    "\n",
    "1. [Hipster Ipsum](#section1)\n",
    "\n",
    "2. [Startup Ipsum](#section2)\n",
    "\n",
    "3. [Metaphor Ipsum](#section3)\n",
    "\n",
    "4. [Pirate Ipsum](#section4)\n",
    "\n",
    "5. [Cheese Ipsum](#section4)"
   ]
  },
  {
   "cell_type": "markdown",
   "metadata": {
    "tags": []
   },
   "source": [
    "### Hipster Ipsum <a class=\"anchor\" id=\"section1\"></a>"
   ]
  },
  {
   "cell_type": "markdown",
   "metadata": {},
   "source": [
    "I'm baby chillwave iceland keytar, bespoke leggings cloud bread hashtag tattooed +1 lyft plaid live-edge beard street art truffaut."
   ]
  },
  {
   "cell_type": "code",
   "execution_count": null,
   "metadata": {},
   "outputs": [],
   "source": [
    "import numpy as np\n",
    "import pandas as pd"
   ]
  },
  {
   "cell_type": "markdown",
   "metadata": {},
   "source": [
    "Palo santo green juice shoreditch photo booth affogato slow-carb hashtag tumeric migas chicharrones XOXO prism everyday carry. Gochujang pabst affogato, selvage neutra VHS ramps cloud bread kinfolk tbh etsy palo santo bushwick."
   ]
  },
  {
   "cell_type": "code",
   "execution_count": null,
   "metadata": {},
   "outputs": [],
   "source": [
    "df = pd.DataFrame(np.random.randint(0,100,size=(10, 10)), columns=list('ABCDEFHIJK'))\n",
    "df"
   ]
  },
  {
   "cell_type": "markdown",
   "metadata": {},
   "source": [
    "### Startup Ipsum <a class=\"anchor\" id=\"section2\"></a>"
   ]
  },
  {
   "cell_type": "markdown",
   "metadata": {},
   "source": [
    "Traction responsive web design pitch iPad supply chain incubator interaction design customer market channels beta ecosystem. \n",
    "\n",
    "Termsheet backing mass market business plan prototype vesting period metrics value proposition startup social media. Product management churn rate MVP business-to-business traction freemium. Network effects business plan bandwidth."
   ]
  },
  {
   "cell_type": "code",
   "execution_count": null,
   "metadata": {},
   "outputs": [],
   "source": [
    "df = pd.DataFrame([[38.0, 2.0, 18.0, 22.0, 21, np.nan],[19, 439, 6, 452, 226,232]],\n",
    "                  index=pd.Index(['Tumour (Positive)', 'Non-Tumour (Negative)'], name='Actual Label:'),\n",
    "                  columns=pd.MultiIndex.from_product([['Decision Tree', 'Regression', 'Random'],['Tumour', 'Non-Tumour']], names=['Model:', 'Predicted:']))"
   ]
  },
  {
   "cell_type": "code",
   "execution_count": null,
   "metadata": {},
   "outputs": [],
   "source": [
    "s = df.style.format('{:.0f}').hide_columns([('Random', 'Tumour'), ('Random', 'Non-Tumour')])"
   ]
  },
  {
   "cell_type": "code",
   "execution_count": null,
   "metadata": {},
   "outputs": [],
   "source": [
    "cell_hover = {  # for row hover use <tr> instead of <td>\n",
    "    'selector': 'td:hover',\n",
    "    'props': [('background-color', '#ffffb3')]\n",
    "}\n",
    "index_names = {\n",
    "    'selector': '.index_name',\n",
    "    'props': 'font-style: italic; color: darkgrey; font-weight:normal;'\n",
    "}\n",
    "headers = {\n",
    "    'selector': 'th:not(.index_name)',\n",
    "    'props': 'background-color: #000066; color: white;'\n",
    "}\n",
    "s.set_table_styles([cell_hover, index_names, headers])"
   ]
  },
  {
   "cell_type": "markdown",
   "metadata": {},
   "source": [
    "### Metaphor Ipsum <a class=\"anchor\" id=\"section3\"></a>"
   ]
  },
  {
   "cell_type": "markdown",
   "metadata": {},
   "source": [
    "Unfortunately, that is wrong; on the contrary, we can assume that any instance of a lyric can be construed as a finless voice. An oaken handsaw without emeries is truly a burglar of bovid trousers. A lemonade is the fruit of a roll. A cornute norwegian is an ikebana of the mind."
   ]
  },
  {
   "cell_type": "code",
   "execution_count": null,
   "metadata": {},
   "outputs": [],
   "source": [
    "s.set_table_styles([\n",
    "    {'selector': 'th.col_heading', 'props': 'text-align: center;'},\n",
    "    {'selector': 'th.col_heading.level0', 'props': 'font-size: 1.5em;'},\n",
    "    {'selector': 'td', 'props': 'text-align: center; font-weight: bold;'},\n",
    "], overwrite=False)\n",
    "\n",
    "s.set_table_styles([  # create internal CSS classes\n",
    "    {'selector': '.true', 'props': 'background-color: #e6ffe6;'},\n",
    "    {'selector': '.false', 'props': 'background-color: #ffe6e6;'},\n",
    "], overwrite=False)\n",
    "cell_color = pd.DataFrame([['true ', 'false ', 'true ', 'false '],\n",
    "                           ['false ', 'true ', 'false ', 'true ']],\n",
    "                          index=df.index,\n",
    "                          columns=df.columns[:4])\n",
    "s.set_td_classes(cell_color)"
   ]
  },
  {
   "cell_type": "markdown",
   "metadata": {},
   "source": [
    "If this was somewhat unclear, the first unblenched marble is, in its own way, a whip. Those multimedias are nothing more than ounces. Recent controversy aside, the engine is a disease. Authors often misinterpret the throne as a stolid suit, when in actuality it feels more like a purplish nephew."
   ]
  },
  {
   "cell_type": "markdown",
   "metadata": {},
   "source": [
    "### Pirate Ipsum <a class=\"anchor\" id=\"section4\"></a>"
   ]
  },
  {
   "cell_type": "markdown",
   "metadata": {},
   "source": [
    "Prow scuttle parrel provost Sail ho shrouds spirits boom mizzenmast yardarm. Pinnace holystone mizzenmast quarter crow's nest nipperkin grog yardarm hempen halter furl. Swab barque interloper chantey doubloon starboard grog black jack gangway rutters."
   ]
  },
  {
   "cell_type": "code",
   "execution_count": null,
   "metadata": {},
   "outputs": [],
   "source": [
    "df = pd.DataFrame(np.random.randn(4,4),\n",
    "                   pd.MultiIndex.from_product([['A', 'B'], ['r1', 'r2']]),\n",
    "                   columns=['c1','c2','c3','c4'])\n",
    "df"
   ]
  },
  {
   "cell_type": "markdown",
   "metadata": {},
   "source": [
    "Trysail Sail ho Corsair red ensign hulk smartly boom jib rum gangway. Case shot Shiver me timbers gangplank crack Jennys tea cup ballast Blimey lee snow crow's nest rutters. Fluke jib scourge of the seven seas boatswain schooner gaff booty Jack Tar transom spirits."
   ]
  },
  {
   "cell_type": "code",
   "execution_count": null,
   "metadata": {},
   "outputs": [],
   "source": [
    "slice_ = ['c3', 'c4']\n",
    "def highlight_max(s, props=''):\n",
    "    return np.where(s == np.nanmax(s.values), props, '')\n",
    "df.style.apply(highlight_max, props='color:red;', axis=0, subset=slice_)\\\n",
    "         .set_properties(**{'background-color': '#ffffb3'}, subset=slice_)"
   ]
  },
  {
   "cell_type": "markdown",
   "metadata": {},
   "source": [
    "### Cheese Ipsum <a class=\"anchor\" id=\"section5\"></a>"
   ]
  },
  {
   "cell_type": "markdown",
   "metadata": {},
   "source": [
    "I love cheese, especially port-salut cheese triangles. Stilton paneer rubber cheese stilton cheddar cheddar gouda brie. Jarlsberg cheesy feet squirty cheese goat the big cheese lancashire feta stinking bishop. Emmental cheddar cheese slices st. agur blue cheese cheese and wine cheese and wine cheese on toast port-salut. Cheesy feet say cheese fromage airedale cream cheese dolcelatte stinking bishop cheddar. Cheddar fromage roquefort paneer lancashire paneer fromage swiss. Pecorino."
   ]
  },
  {
   "cell_type": "code",
   "execution_count": null,
   "metadata": {},
   "outputs": [],
   "source": [
    "np.random.seed(0)\n",
    "df = pd.DataFrame(np.random.randn(10,4), columns=['A','B','C','D'])\n",
    "df.style"
   ]
  },
  {
   "cell_type": "code",
   "execution_count": null,
   "metadata": {},
   "outputs": [],
   "source": [
    "def style_negative(v, props=''):\n",
    "    return props if v < 0 else None\n",
    "s = df.style.applymap(style_negative, props='color:red;')\\\n",
    "              .applymap(lambda v: 'opacity: 20%;' if (v < 0.3) and (v > -0.3) else None)\n",
    "s"
   ]
  },
  {
   "cell_type": "markdown",
   "metadata": {},
   "source": [
    "Smelly cheese roquefort manchego. Caerphilly lancashire boursin fondue cottage cheese pepper jack cheddar bocconcini. Taleggio cow croque monsieur stilton cheesy feet goat cheese and biscuits parmesan. When the cheese comes out everybody's happy halloumi edam melted cheese pepper jack say cheese feta macaroni cheese. Melted cheese cheeseburger cheeseburger cream cheese cottage cheese cheese triangles fromage taleggio. Gouda lancashire bavarian bergkase danish fontina rubber cheese queso airedale paneer. Boursin cheese strings edam cheese on toast say cheese."
   ]
  },
  {
   "cell_type": "code",
   "execution_count": null,
   "metadata": {},
   "outputs": [],
   "source": []
  }
 ],
 "metadata": {
  "kernelspec": {
   "display_name": "Python 3 (ipykernel)",
   "language": "python",
   "name": "python3"
  },
  "language_info": {
   "codemirror_mode": {
    "name": "ipython",
    "version": 3
   },
   "file_extension": ".py",
   "mimetype": "text/x-python",
   "name": "python",
   "nbconvert_exporter": "python",
   "pygments_lexer": "ipython3",
   "version": "3.9.5"
  },
  "voila": {
   "template": "acme"
  }
 },
 "nbformat": 4,
 "nbformat_minor": 4
}
